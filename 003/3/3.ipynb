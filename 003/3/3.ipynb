{
 "cells": [
  {
   "cell_type": "markdown",
   "id": "dd2dd0ac",
   "metadata": {},
   "source": [
    "На вход поступает два текстовых файла из 3-х тысяч строк каждый.\n",
    "\n",
    "Первый файл содержит строки текста.   \n",
    " \n",
    "Второй файл содержит строки из двух целых неотрицательных чисел.\n",
    "Первое число в строке всегда меньше или равно второму.\n",
    "Числа всегда меньше длины соответствующей строки первого файла.\n",
    "Соответствующей - это значит 1-ая строка из 1-го файла соответствует 1-ой строке из 2-го файла, а 123-я строка из 1-го файла соответствует 123-ей строке из 2-го файла.\n",
    " \n",
    "Подготовить выходной файл, который состоит из подстрок 1-го входного файла.\n",
    "Подстроки разделены пробелами.\n",
    "Какие брать подстроки - написано во втором файле.\n",
    "В конце файла пробела нет."
   ]
  },
  {
   "cell_type": "code",
   "execution_count": 3,
   "id": "1fc07a74",
   "metadata": {},
   "outputs": [
    {
     "data": {
      "text/plain": [
       "True"
      ]
     },
     "execution_count": 3,
     "metadata": {},
     "output_type": "execute_result"
    }
   ],
   "source": [
    "# Проверка\n",
    "with open('test_import_file_2_1.txt', 'r') as file_1,\\\n",
    "     open('test_import_file_2_2.txt', 'r') as file_2,\\\n",
    "     open('test_output_file_2.txt', 'r') as file_result:\n",
    "\n",
    "    test_result = file_result.read()\n",
    "    result_str  = ''\n",
    "    for f1, f2 in zip(file_1, file_2):\n",
    "        begin, end = map(int, f2.strip().split()) \n",
    "        result_str += f1[begin: end + 1] + ' '\n",
    "        \n",
    "result_str[:-1] == test_result"
   ]
  },
  {
   "cell_type": "code",
   "execution_count": 4,
   "id": "703a0258",
   "metadata": {},
   "outputs": [],
   "source": [
    "# Решение\n",
    "with open('import_file_2_1.txt', 'r') as file_1,\\\n",
    "     open('import_file_2_2.txt', 'r') as file_2,\\\n",
    "     open('output_file_2.txt', 'w') as file_result:\n",
    "\n",
    "    result_str  = ''\n",
    "    for f1, f2 in zip(file_1, file_2):\n",
    "        begin, end = map(int, f2.strip().split()) \n",
    "        result_str += f1[begin: end + 1] + ' '\n",
    "\n",
    "    file_result.write(result_str[:-1])"
   ]
  }
 ],
 "metadata": {
  "kernelspec": {
   "display_name": "Python 3 (ipykernel)",
   "language": "python",
   "name": "python3"
  },
  "language_info": {
   "codemirror_mode": {
    "name": "ipython",
    "version": 3
   },
   "file_extension": ".py",
   "mimetype": "text/x-python",
   "name": "python",
   "nbconvert_exporter": "python",
   "pygments_lexer": "ipython3",
   "version": "3.9.10"
  }
 },
 "nbformat": 4,
 "nbformat_minor": 5
}
