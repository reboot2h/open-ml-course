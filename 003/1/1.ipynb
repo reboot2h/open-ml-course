{
 "cells": [
  {
   "cell_type": "markdown",
   "id": "20a9f76f",
   "metadata": {},
   "source": [
    "Написать код, который вычисляет сумму всех чисел, удовлетворяющих следующие условия:\n",
    "\n",
    "положительные целые числа от 1 до 1_000_000_002 (один миллиард два) включительно\n",
    "которые нацело (без остатка) делятся на 3 (пример: 3, 6, 9, ...)\n",
    "и которые не заканчиваются на 4 и 7 (пример заканчивающихся на 4 и 7: 24, 27, 54, 57 ...)"
   ]
  },
  {
   "cell_type": "code",
   "execution_count": 8,
   "id": "2896f89c",
   "metadata": {},
   "outputs": [
    {
     "name": "stdout",
     "output_type": "stream",
     "text": [
      "133333334466666672\n"
     ]
    }
   ],
   "source": [
    "total = 0\n",
    "for i in range(3,1_000_000_003,3):\n",
    "    if i % 10 != 4 and i % 10 != 7:\n",
    "        total += i\n",
    "print(total)"
   ]
  }
 ],
 "metadata": {
  "kernelspec": {
   "display_name": "Python 3 (ipykernel)",
   "language": "python",
   "name": "python3"
  },
  "language_info": {
   "codemirror_mode": {
    "name": "ipython",
    "version": 3
   },
   "file_extension": ".py",
   "mimetype": "text/x-python",
   "name": "python",
   "nbconvert_exporter": "python",
   "pygments_lexer": "ipython3",
   "version": "3.9.10"
  }
 },
 "nbformat": 4,
 "nbformat_minor": 5
}
