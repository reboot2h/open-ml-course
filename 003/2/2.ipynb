{
 "cells": [
  {
   "cell_type": "code",
   "execution_count": 3,
   "id": "b5f5e8fb",
   "metadata": {},
   "outputs": [],
   "source": [
    "#input_file = open('test_input_file_1.txt', 'r')\n",
    "input_file = open('input_file.txt', 'r')\n",
    "#output_file = open('test_output_file_003_2.txt', 'w')\n",
    "output_file = open('output_file_003_2.txt', 'w')\n",
    "lines = input_file.readlines()\n",
    "input_file.close()\n",
    "result_list = []\n",
    "\n",
    "for line in lines:\n",
    "    split_line = line.split()\n",
    "    if split_line[0] == '+':\n",
    "        result = int(split_line[1]) + int(split_line[2])\n",
    "    elif split_line[0] == '-':\n",
    "        result = int(split_line[1]) - int(split_line[2])\n",
    "    elif split_line[0] == '*':\n",
    "        result = int(split_line[1]) * int(split_line[2])\n",
    "    elif split_line[0] == '//':\n",
    "        result = int(split_line[1]) // int(split_line[2])\n",
    "    elif split_line[0] == '%':\n",
    "        result = int(split_line[1]) % int(split_line[2])\n",
    "    elif split_line[0] == '**':\n",
    "        result = int(split_line[1]) ** int(split_line[2])\n",
    "    result_list.append(str(result))\n",
    "\n",
    "for index, element in enumerate(result_list):\n",
    "    if index == 0:\n",
    "        output_file.write(element)\n",
    "    else:\n",
    "        output_file.write(',' + element)\n",
    "\n",
    "output_file.close()"
   ]
  }
 ],
 "metadata": {
  "kernelspec": {
   "display_name": "Python 3 (ipykernel)",
   "language": "python",
   "name": "python3"
  },
  "language_info": {
   "codemirror_mode": {
    "name": "ipython",
    "version": 3
   },
   "file_extension": ".py",
   "mimetype": "text/x-python",
   "name": "python",
   "nbconvert_exporter": "python",
   "pygments_lexer": "ipython3",
   "version": "3.9.10"
  }
 },
 "nbformat": 4,
 "nbformat_minor": 5
}
