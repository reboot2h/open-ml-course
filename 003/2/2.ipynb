{
 "cells": [
  {
   "cell_type": "markdown",
   "id": "63a6aa6d",
   "metadata": {},
   "source": [
    "На вход поступает текстовый файл из 3-х тысяч строк\n",
    "\n",
    "Формат файла:\n",
    "    \"арифметическая операция\"    \"целое число #1\"    \"целое число #2\"\n",
    "Разделитель - 4 пробела\n",
    "\n",
    "\n",
    "Нужно подготовить текстовый файл из 1 строки.\n",
    "Строка содержит набор из 3-х тысяч чисел, разделенных запятой. \n",
    "После последнего числа запятая не ставится.\n",
    "каждое число - результат операции: \n",
    "    \"результирующее целое число\" = \"целое число #1\" применить \"арифметическая операция\" \"целое число #2\"\n",
    "\n",
    "Пример входного файла:\n",
    "\n",
    "+    5    4\n",
    "-    -10449    -7623\n",
    "**    2    10\n",
    "\n",
    "Пример выходного файла (для примера входного файла выше):\n",
    "\n",
    "9,-2826,1024\n",
    "    \n",
    "Допустимые операции:\n",
    "\n",
    "+ (сложение)\n",
    "- (вычитание)\n",
    "* (умножение)\n",
    "// (целочисленное деление) (для этой операции подаются только положительные числа)\n",
    "% (остаток от деления) (для этой операции подаются только положительные числа)\n",
    "** (возведение в степень) (для этой операции подаются только положительные числа)"
   ]
  },
  {
   "cell_type": "code",
   "execution_count": 3,
   "id": "b5f5e8fb",
   "metadata": {},
   "outputs": [],
   "source": [
    "#input_file = open('test_input_file_1.txt', 'r')\n",
    "input_file = open('input_file.txt', 'r')\n",
    "#output_file = open('test_output_file_003_2.txt', 'w')\n",
    "output_file = open('output_file_003_2.txt', 'w')\n",
    "lines = input_file.readlines()\n",
    "input_file.close()\n",
    "result_list = []\n",
    "\n",
    "for line in lines:\n",
    "    split_line = line.split()\n",
    "    if split_line[0] == '+':\n",
    "        result = int(split_line[1]) + int(split_line[2])\n",
    "    elif split_line[0] == '-':\n",
    "        result = int(split_line[1]) - int(split_line[2])\n",
    "    elif split_line[0] == '*':\n",
    "        result = int(split_line[1]) * int(split_line[2])\n",
    "    elif split_line[0] == '//':\n",
    "        result = int(split_line[1]) // int(split_line[2])\n",
    "    elif split_line[0] == '%':\n",
    "        result = int(split_line[1]) % int(split_line[2])\n",
    "    elif split_line[0] == '**':\n",
    "        result = int(split_line[1]) ** int(split_line[2])\n",
    "    result_list.append(str(result))\n",
    "\n",
    "for index, element in enumerate(result_list):\n",
    "    if index == 0:\n",
    "        output_file.write(element)\n",
    "    else:\n",
    "        output_file.write(',' + element)\n",
    "\n",
    "output_file.close()"
   ]
  }
 ],
 "metadata": {
  "kernelspec": {
   "display_name": "Python 3 (ipykernel)",
   "language": "python",
   "name": "python3"
  },
  "language_info": {
   "codemirror_mode": {
    "name": "ipython",
    "version": 3
   },
   "file_extension": ".py",
   "mimetype": "text/x-python",
   "name": "python",
   "nbconvert_exporter": "python",
   "pygments_lexer": "ipython3",
   "version": "3.9.10"
  }
 },
 "nbformat": 4,
 "nbformat_minor": 5
}
