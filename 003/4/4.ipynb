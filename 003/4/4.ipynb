{
 "cells": [
  {
   "cell_type": "markdown",
   "id": "19a345c1",
   "metadata": {},
   "source": [
    "На вход поступает строка.\n",
    "В ней хранится набор химических символов (He, O, H, Mg, Fe, ...). Без пробелов.\n",
    "Нужно расшифровать химические символы в название химических элементов.\n",
    "Для удобства, прилагается json файл, который ставит в соответствие химическому символу его химическое название.\n",
    "Как прочитать этот файл в словарь python (dict):\n",
    "\n",
    "periodic_table = json.load(open('periodic_table.json'))\n",
    "Пример входной строки:\n",
    "\n",
    "NOTiFICaTiON\n",
    "Пример выходной строки:\n",
    "\n",
    "АзотКислородТитанФторЙодКальцийТитанКислородАзот"
   ]
  },
  {
   "cell_type": "code",
   "execution_count": 1,
   "id": "27abdf95",
   "metadata": {},
   "outputs": [
    {
     "data": {
      "text/plain": [
       "True"
      ]
     },
     "execution_count": 1,
     "metadata": {},
     "output_type": "execute_result"
    }
   ],
   "source": [
    "# Проверка\n",
    "import json\n",
    "\n",
    "test_str_el     = 'NOTiFICaTiON'\n",
    "test_result_str = 'АзотКислородТитанФторЙодКальцийТитанКислородАзот'\n",
    "result_list     = []\n",
    "result_str      = ''\n",
    "\n",
    "with open('periodic_table.json', 'r', encoding='utf-8') as file_periodic:\n",
    "    elements = json.load(file_periodic)\n",
    "\n",
    "for el in test_str_el:\n",
    "    if el.isupper():\n",
    "        result_list.append(el)\n",
    "    else:\n",
    "        result_list[-1] += el\n",
    "for el in result_list:\n",
    "    result_str += elements[el]\n",
    "    \n",
    "test_result_str == result_str"
   ]
  },
  {
   "cell_type": "code",
   "execution_count": 2,
   "id": "7840949a",
   "metadata": {},
   "outputs": [],
   "source": [
    "# Решение\n",
    "import json\n",
    "\n",
    "result_list = []\n",
    "result_str  = ''\n",
    "with open('periodic_table.json', 'r', encoding='utf-8') as file_periodic,\\\n",
    "     open('import_file_3.txt', 'r') as file_1,\\\n",
    "     open('output_file_3.txt', 'w', encoding='utf-8') as result_file:\n",
    "    elements    = json.load(file_periodic)\n",
    "    test_str_el = file_1.read()\n",
    "\n",
    "    for el in test_str_el:\n",
    "        if el.isupper():\n",
    "            result_list.append(el)\n",
    "        else:\n",
    "            result_list[-1] += el\n",
    "    for el in result_list:\n",
    "        result_str += elements[el]\n",
    "\n",
    "    result_file.write(result_str)"
   ]
  }
 ],
 "metadata": {
  "kernelspec": {
   "display_name": "Python 3 (ipykernel)",
   "language": "python",
   "name": "python3"
  },
  "language_info": {
   "codemirror_mode": {
    "name": "ipython",
    "version": 3
   },
   "file_extension": ".py",
   "mimetype": "text/x-python",
   "name": "python",
   "nbconvert_exporter": "python",
   "pygments_lexer": "ipython3",
   "version": "3.9.10"
  }
 },
 "nbformat": 4,
 "nbformat_minor": 5
}
